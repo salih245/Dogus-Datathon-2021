{
 "cells": [
  {
   "cell_type": "code",
   "execution_count": 1,
   "id": "convertible-contract",
   "metadata": {},
   "outputs": [],
   "source": [
    "import pandas as pd\n",
    "import seaborn as sns\n",
    "from matplotlib import pyplot as plt\n",
    "import seaborn as sns"
   ]
  },
  {
   "cell_type": "code",
   "execution_count": 2,
   "id": "fluid-simple",
   "metadata": {},
   "outputs": [],
   "source": [
    "path = r\"C:\\Users\\IsmailKaraman\\workspace\\data\\dogus_datathon_21\\\\\""
   ]
  },
  {
   "cell_type": "code",
   "execution_count": 3,
   "id": "surface-wallace",
   "metadata": {},
   "outputs": [
    {
     "name": "stderr",
     "output_type": "stream",
     "text": [
      "C:\\Users\\IsmailKaraman\\anaconda3\\lib\\site-packages\\numpy\\lib\\arraysetops.py:580: FutureWarning: elementwise comparison failed; returning scalar instead, but in the future will perform elementwise comparison\n",
      "  mask |= (ar1 == a)\n"
     ]
    }
   ],
   "source": [
    "customer                =  pd.read_csv(path+'FINAL_CUSTOMER_DATATHON.csv', index_col='Unnamed: 0')\n",
    "customer_related_table  =  pd.read_csv(path+'FINAL_CUSTOMER_RELATED_TABLE_FOR_DATATHON.csv', index_col='Unnamed: 0', parse_dates=['START_DATE', 'END_DATE'])\n",
    "sales_file              =  pd.read_csv(path+'FINAL_SALES_FILE_DATATHON.csv', index_col='Unnamed: 0', parse_dates=['SF_CREATE_DATE'])\n",
    "sifir_arac_alanlar      =  pd.read_csv(path+'FINAL_SIFIR_ARAC_ALANLAR_DATATHON.csv', index_col='Unnamed: 0', parse_dates=['CREATE_DATE'])\n",
    "vehicle_table           =  pd.read_csv(path+'FINAL_VEHICLE_TABLE_DATATHON.csv', index_col='Unnamed: 0', parse_dates=['TRAFFIC_DATE'])\n",
    "mask_servis_bakim       =  pd.read_csv(path+'MASK_SERVIS_BAKIM_DATATHON_FINAL.csv', index_col='Unnamed: 0',  parse_dates=['CREATE_DATE'])\n",
    "sample_submission_raw   =  pd.read_csv(path+'sample_submission.csv')"
   ]
  },
  {
   "cell_type": "markdown",
   "id": "rotary-highlight",
   "metadata": {},
   "source": [
    "## FINAL_CUSTOMER_DATATHON"
   ]
  },
  {
   "cell_type": "code",
   "execution_count": 4,
   "id": "judicial-eating",
   "metadata": {},
   "outputs": [
    {
     "data": {
      "text/html": [
       "<div>\n",
       "<style scoped>\n",
       "    .dataframe tbody tr th:only-of-type {\n",
       "        vertical-align: middle;\n",
       "    }\n",
       "\n",
       "    .dataframe tbody tr th {\n",
       "        vertical-align: top;\n",
       "    }\n",
       "\n",
       "    .dataframe thead th {\n",
       "        text-align: right;\n",
       "    }\n",
       "</style>\n",
       "<table border=\"1\" class=\"dataframe\">\n",
       "  <thead>\n",
       "    <tr style=\"text-align: right;\">\n",
       "      <th></th>\n",
       "      <th>BASE_CUSTOMER_ID</th>\n",
       "      <th>CUSTOMER_ID</th>\n",
       "      <th>GENDER</th>\n",
       "      <th>GENDER_ID</th>\n",
       "      <th>MARITAL_STATUS</th>\n",
       "      <th>MARITAL_STATUS_ID</th>\n",
       "      <th>BIRTH_DATE</th>\n",
       "      <th>FK_ADDRESS_COMMUNICATION_CITY</th>\n",
       "      <th>OCCUPATION</th>\n",
       "    </tr>\n",
       "  </thead>\n",
       "  <tbody>\n",
       "    <tr>\n",
       "      <th>0</th>\n",
       "      <td>158891</td>\n",
       "      <td>1747700</td>\n",
       "      <td>Erkek</td>\n",
       "      <td>100</td>\n",
       "      <td>NaN</td>\n",
       "      <td>0</td>\n",
       "      <td>NaN</td>\n",
       "      <td>NaN</td>\n",
       "      <td>NaN</td>\n",
       "    </tr>\n",
       "    <tr>\n",
       "      <th>1</th>\n",
       "      <td>169233</td>\n",
       "      <td>1710561</td>\n",
       "      <td>Erkek</td>\n",
       "      <td>100</td>\n",
       "      <td>Evli</td>\n",
       "      <td>101</td>\n",
       "      <td>1962.0</td>\n",
       "      <td>Erzurum</td>\n",
       "      <td>Öğretmen / Eğitmen</td>\n",
       "    </tr>\n",
       "    <tr>\n",
       "      <th>2</th>\n",
       "      <td>30887</td>\n",
       "      <td>1043923</td>\n",
       "      <td>Erkek</td>\n",
       "      <td>100</td>\n",
       "      <td>Evli</td>\n",
       "      <td>101</td>\n",
       "      <td>1971.0</td>\n",
       "      <td>İstanbul</td>\n",
       "      <td>Esnaf</td>\n",
       "    </tr>\n",
       "    <tr>\n",
       "      <th>3</th>\n",
       "      <td>38013</td>\n",
       "      <td>1101926</td>\n",
       "      <td>Erkek</td>\n",
       "      <td>100</td>\n",
       "      <td>NaN</td>\n",
       "      <td>0</td>\n",
       "      <td>NaN</td>\n",
       "      <td>Manisa</td>\n",
       "      <td>NaN</td>\n",
       "    </tr>\n",
       "    <tr>\n",
       "      <th>4</th>\n",
       "      <td>157091</td>\n",
       "      <td>1819787</td>\n",
       "      <td>Kadın</td>\n",
       "      <td>101</td>\n",
       "      <td>NaN</td>\n",
       "      <td>0</td>\n",
       "      <td>NaN</td>\n",
       "      <td>Ankara</td>\n",
       "      <td>NaN</td>\n",
       "    </tr>\n",
       "  </tbody>\n",
       "</table>\n",
       "</div>"
      ],
      "text/plain": [
       "   BASE_CUSTOMER_ID  CUSTOMER_ID GENDER  GENDER_ID MARITAL_STATUS  \\\n",
       "0            158891      1747700  Erkek        100            NaN   \n",
       "1            169233      1710561  Erkek        100           Evli   \n",
       "2             30887      1043923  Erkek        100           Evli   \n",
       "3             38013      1101926  Erkek        100            NaN   \n",
       "4            157091      1819787  Kadın        101            NaN   \n",
       "\n",
       "   MARITAL_STATUS_ID  BIRTH_DATE FK_ADDRESS_COMMUNICATION_CITY  \\\n",
       "0                  0         NaN                           NaN   \n",
       "1                101      1962.0                       Erzurum   \n",
       "2                101      1971.0                      İstanbul   \n",
       "3                  0         NaN                        Manisa   \n",
       "4                  0         NaN                        Ankara   \n",
       "\n",
       "           OCCUPATION  \n",
       "0                 NaN  \n",
       "1  Öğretmen / Eğitmen  \n",
       "2               Esnaf  \n",
       "3                 NaN  \n",
       "4                 NaN  "
      ]
     },
     "execution_count": 4,
     "metadata": {},
     "output_type": "execute_result"
    }
   ],
   "source": [
    "customer.head()"
   ]
  },
  {
   "cell_type": "code",
   "execution_count": 5,
   "id": "imposed-province",
   "metadata": {},
   "outputs": [
    {
     "data": {
      "image/png": "[encoded data removed]",
      "text/plain": [
       "<Figure size 1152x360 with 1 Axes>"
      ]
     },
     "metadata": {
      "needs_background": "light"
     },
     "output_type": "display_data"
    }
   ],
   "source": [
    "plt.figure(figsize=(16,5))\n",
    "chart = sns.countplot(\n",
    "    data=pd.DataFrame(2021-customer['BIRTH_DATE']),\n",
    "    x='BIRTH_DATE',\n",
    "    palette='Set1'\n",
    ")\n",
    "chart.set_xticklabels(chart.get_xticklabels(), rotation=45)\n",
    "\n",
    "None #don't show the label objects"
   ]
  },
  {
   "cell_type": "code",
   "execution_count": 6,
   "id": "stuck-blackberry",
   "metadata": {},
   "outputs": [
    {
     "data": {
      "image/png": "[encoded data removed]",
      "text/plain": [
       "<Figure size 1008x360 with 1 Axes>"
      ]
     },
     "metadata": {
      "needs_background": "light"
     },
     "output_type": "display_data"
    }
   ],
   "source": [
    "plt.figure(figsize=(14,5))\n",
    "chart = sns.countplot(\n",
    "    data=customer,\n",
    "    x='OCCUPATION',\n",
    "    palette='Set1'\n",
    ")\n",
    "chart.set_xticklabels(chart.get_xticklabels(), rotation=90)\n",
    "\n",
    "None #don't show thea label objects"
   ]
  },
  {
   "cell_type": "code",
   "execution_count": 7,
   "id": "colonial-carolina",
   "metadata": {},
   "outputs": [],
   "source": [
    "replace_for_cities = {'DÜZCE':'Düzce', 'BİNGÖL':'Bingöl', 'SİVAS':'Sivas', 'BİLİNMEYEN':'wronginfo', 'X':'wronginfo',\n",
    "                      'Alm':'Almanya', 'KÜTAHYA':'Kütahya', 'bursa':'Bursa', 'ist':'İstanbul', 'L':'wronginfo', \n",
    "                      'istanbul':'İstanbul', 'DİYARBAKIR':'Diyarbakır', 'DİĞER':'wronginfo', 'z':'wronginfo',\n",
    "                      'nahçıvan':'Nahçıvan', 'RİZE':'Rize', 'girne':'GİRNE', 'Merkez':'wronginfo',\n",
    "                      'Asd':'wronginfo', 'Lefkoşe':'Lefkoşa', 'z':'wronginfo'}\n",
    "\n",
    "customer[\"FK_ADDRESS_COMMUNICATION_CITY\"]=customer[\"FK_ADDRESS_COMMUNICATION_CITY\"].replace(replace_for_cities)"
   ]
  },
  {
   "cell_type": "code",
   "execution_count": 8,
   "id": "southern-surveillance",
   "metadata": {},
   "outputs": [
    {
     "data": {
      "image/png": "[encoded data removed]",
      "text/plain": [
       "<Figure size 1008x360 with 1 Axes>"
      ]
     },
     "metadata": {
      "needs_background": "light"
     },
     "output_type": "display_data"
    }
   ],
   "source": [
    "plt.figure(figsize=(14,5))\n",
    "chart = sns.countplot(\n",
    "    data=customer,\n",
    "    x='FK_ADDRESS_COMMUNICATION_CITY',\n",
    "    palette='Set1'\n",
    ")\n",
    "chart.set_xticklabels(chart.get_xticklabels(), rotation=90)\n",
    "\n",
    "None #don't show thea label objects"
   ]
  },
  {
   "cell_type": "markdown",
   "id": "therapeutic-monroe",
   "metadata": {},
   "source": [
    "## FINAL_CUSTOMER_RELATED_TABLE_FOR_DATATHON"
   ]
  },
  {
   "cell_type": "code",
   "execution_count": 9,
   "id": "optional-vulnerability",
   "metadata": {},
   "outputs": [
    {
     "data": {
      "text/html": [
       "<div>\n",
       "<style scoped>\n",
       "    .dataframe tbody tr th:only-of-type {\n",
       "        vertical-align: middle;\n",
       "    }\n",
       "\n",
       "    .dataframe tbody tr th {\n",
       "        vertical-align: top;\n",
       "    }\n",
       "\n",
       "    .dataframe thead th {\n",
       "        text-align: right;\n",
       "    }\n",
       "</style>\n",
       "<table border=\"1\" class=\"dataframe\">\n",
       "  <thead>\n",
       "    <tr style=\"text-align: right;\">\n",
       "      <th></th>\n",
       "      <th>BASE_CUSTOMER_ID</th>\n",
       "      <th>VEHICLE_ID</th>\n",
       "      <th>START_DATE</th>\n",
       "      <th>END_DATE</th>\n",
       "      <th>FK_RELATION_STATUS_ID</th>\n",
       "      <th>FK_RELATION_STATUS_EXPLANATION</th>\n",
       "    </tr>\n",
       "  </thead>\n",
       "  <tbody>\n",
       "    <tr>\n",
       "      <th>0</th>\n",
       "      <td>189537</td>\n",
       "      <td>5321560</td>\n",
       "      <td>2018-07-24</td>\n",
       "      <td>2019-07-03</td>\n",
       "      <td>2</td>\n",
       "      <td>Pasif Ruhsat Sahibi</td>\n",
       "    </tr>\n",
       "    <tr>\n",
       "      <th>1</th>\n",
       "      <td>110802</td>\n",
       "      <td>5329278</td>\n",
       "      <td>2019-07-16</td>\n",
       "      <td>NaT</td>\n",
       "      <td>1</td>\n",
       "      <td>Aktif Ruhsat Sahibi</td>\n",
       "    </tr>\n",
       "    <tr>\n",
       "      <th>2</th>\n",
       "      <td>160615</td>\n",
       "      <td>5329282</td>\n",
       "      <td>2019-09-12</td>\n",
       "      <td>NaT</td>\n",
       "      <td>1</td>\n",
       "      <td>Aktif Ruhsat Sahibi</td>\n",
       "    </tr>\n",
       "    <tr>\n",
       "      <th>3</th>\n",
       "      <td>115664</td>\n",
       "      <td>5328513</td>\n",
       "      <td>2019-02-25</td>\n",
       "      <td>NaT</td>\n",
       "      <td>1</td>\n",
       "      <td>Aktif Ruhsat Sahibi</td>\n",
       "    </tr>\n",
       "    <tr>\n",
       "      <th>4</th>\n",
       "      <td>81061</td>\n",
       "      <td>5322264</td>\n",
       "      <td>2018-04-16</td>\n",
       "      <td>NaT</td>\n",
       "      <td>1</td>\n",
       "      <td>Aktif Ruhsat Sahibi</td>\n",
       "    </tr>\n",
       "  </tbody>\n",
       "</table>\n",
       "</div>"
      ],
      "text/plain": [
       "   BASE_CUSTOMER_ID  VEHICLE_ID START_DATE   END_DATE  FK_RELATION_STATUS_ID  \\\n",
       "0            189537     5321560 2018-07-24 2019-07-03                      2   \n",
       "1            110802     5329278 2019-07-16        NaT                      1   \n",
       "2            160615     5329282 2019-09-12        NaT                      1   \n",
       "3            115664     5328513 2019-02-25        NaT                      1   \n",
       "4             81061     5322264 2018-04-16        NaT                      1   \n",
       "\n",
       "  FK_RELATION_STATUS_EXPLANATION  \n",
       "0            Pasif Ruhsat Sahibi  \n",
       "1            Aktif Ruhsat Sahibi  \n",
       "2            Aktif Ruhsat Sahibi  \n",
       "3            Aktif Ruhsat Sahibi  \n",
       "4            Aktif Ruhsat Sahibi  "
      ]
     },
     "execution_count": 9,
     "metadata": {},
     "output_type": "execute_result"
    }
   ],
   "source": [
    "customer_related_table.head()"
   ]
  },
  {
   "cell_type": "code",
   "execution_count": 10,
   "id": "german-seminar",
   "metadata": {},
   "outputs": [
    {
     "data": {
      "text/plain": [
       "Aktif Ruhsat Sahibi    215122\n",
       "Pasif Ruhsat Sahibi    159757\n",
       "Name: FK_RELATION_STATUS_EXPLANATION, dtype: int64"
      ]
     },
     "execution_count": 10,
     "metadata": {},
     "output_type": "execute_result"
    }
   ],
   "source": [
    "customer_related_table['FK_RELATION_STATUS_EXPLANATION'].value_counts()"
   ]
  },
  {
   "cell_type": "code",
   "execution_count": 11,
   "id": "republican-yugoslavia",
   "metadata": {},
   "outputs": [
    {
     "data": {
      "text/plain": [
       "(374879, 6)"
      ]
     },
     "execution_count": 11,
     "metadata": {},
     "output_type": "execute_result"
    }
   ],
   "source": [
    "customer_related_table.shape"
   ]
  },
  {
   "cell_type": "code",
   "execution_count": 12,
   "id": "victorian-blogger",
   "metadata": {},
   "outputs": [
    {
     "data": {
      "text/plain": [
       "185023    467\n",
       "40711     374\n",
       "53        317\n",
       "169494    314\n",
       "177297    292\n",
       "         ... \n",
       "11115       1\n",
       "13160       1\n",
       "19303       1\n",
       "23397       1\n",
       "53094       1\n",
       "Name: BASE_CUSTOMER_ID, Length: 196538, dtype: int64"
      ]
     },
     "execution_count": 12,
     "metadata": {},
     "output_type": "execute_result"
    }
   ],
   "source": [
    "customer_related_table['BASE_CUSTOMER_ID'].value_counts()"
   ]
  },
  {
   "cell_type": "code",
   "execution_count": 13,
   "id": "indie-desktop",
   "metadata": {},
   "outputs": [
    {
     "data": {
      "text/plain": [
       "(47, 6)"
      ]
     },
     "execution_count": 13,
     "metadata": {},
     "output_type": "execute_result"
    }
   ],
   "source": [
    "customer_related_table[customer_related_table['BASE_CUSTOMER_ID']==189537].shape"
   ]
  },
  {
   "cell_type": "markdown",
   "id": "numerous-yeast",
   "metadata": {},
   "source": [
    "## FINAL_SALES_FILE_DATATHON"
   ]
  },
  {
   "cell_type": "code",
   "execution_count": 14,
   "id": "imported-database",
   "metadata": {},
   "outputs": [
    {
     "data": {
      "text/html": [
       "<div>\n",
       "<style scoped>\n",
       "    .dataframe tbody tr th:only-of-type {\n",
       "        vertical-align: middle;\n",
       "    }\n",
       "\n",
       "    .dataframe tbody tr th {\n",
       "        vertical-align: top;\n",
       "    }\n",
       "\n",
       "    .dataframe thead th {\n",
       "        text-align: right;\n",
       "    }\n",
       "</style>\n",
       "<table border=\"1\" class=\"dataframe\">\n",
       "  <thead>\n",
       "    <tr style=\"text-align: right;\">\n",
       "      <th></th>\n",
       "      <th>CUSTOMER_ID</th>\n",
       "      <th>SALESFILE_ID</th>\n",
       "      <th>SF_CREATE_DATE</th>\n",
       "      <th>STATUS</th>\n",
       "      <th>REQ_BRAND_CODE</th>\n",
       "      <th>REQ_TOPMODEL_CODE</th>\n",
       "    </tr>\n",
       "  </thead>\n",
       "  <tbody>\n",
       "    <tr>\n",
       "      <th>0</th>\n",
       "      <td>1712792</td>\n",
       "      <td>7274467.0</td>\n",
       "      <td>2017-11-17 12:15:39</td>\n",
       "      <td>101</td>\n",
       "      <td>Y</td>\n",
       "      <td>9231.0</td>\n",
       "    </tr>\n",
       "    <tr>\n",
       "      <th>1</th>\n",
       "      <td>1149729</td>\n",
       "      <td>4839430.0</td>\n",
       "      <td>2015-11-11 17:03:28</td>\n",
       "      <td>102</td>\n",
       "      <td>K</td>\n",
       "      <td>9184.0</td>\n",
       "    </tr>\n",
       "    <tr>\n",
       "      <th>2</th>\n",
       "      <td>1697993</td>\n",
       "      <td>4847398.0</td>\n",
       "      <td>2015-11-14 11:15:51</td>\n",
       "      <td>102</td>\n",
       "      <td>Y</td>\n",
       "      <td>9231.0</td>\n",
       "    </tr>\n",
       "    <tr>\n",
       "      <th>3</th>\n",
       "      <td>1680258</td>\n",
       "      <td>3817349.0</td>\n",
       "      <td>2014-12-23 17:26:09</td>\n",
       "      <td>105</td>\n",
       "      <td>Y</td>\n",
       "      <td>9362.0</td>\n",
       "    </tr>\n",
       "    <tr>\n",
       "      <th>4</th>\n",
       "      <td>1244973</td>\n",
       "      <td>8079074.0</td>\n",
       "      <td>2018-08-28 12:55:04</td>\n",
       "      <td>101</td>\n",
       "      <td>K</td>\n",
       "      <td>9901.0</td>\n",
       "    </tr>\n",
       "    <tr>\n",
       "      <th>...</th>\n",
       "      <td>...</td>\n",
       "      <td>...</td>\n",
       "      <td>...</td>\n",
       "      <td>...</td>\n",
       "      <td>...</td>\n",
       "      <td>...</td>\n",
       "    </tr>\n",
       "    <tr>\n",
       "      <th>397521</th>\n",
       "      <td>1151001</td>\n",
       "      <td>3504117.0</td>\n",
       "      <td>2014-09-17 12:30:13</td>\n",
       "      <td>102</td>\n",
       "      <td>K</td>\n",
       "      <td>9435.0</td>\n",
       "    </tr>\n",
       "    <tr>\n",
       "      <th>397522</th>\n",
       "      <td>1581191</td>\n",
       "      <td>3518578.0</td>\n",
       "      <td>2014-09-22 20:14:38</td>\n",
       "      <td>105</td>\n",
       "      <td>K</td>\n",
       "      <td>9176.0</td>\n",
       "    </tr>\n",
       "    <tr>\n",
       "      <th>397523</th>\n",
       "      <td>1535801</td>\n",
       "      <td>3526258.0</td>\n",
       "      <td>2014-09-25 12:01:58</td>\n",
       "      <td>102</td>\n",
       "      <td>T</td>\n",
       "      <td>9352.0</td>\n",
       "    </tr>\n",
       "    <tr>\n",
       "      <th>397524</th>\n",
       "      <td>1205995</td>\n",
       "      <td>6592609.0</td>\n",
       "      <td>2017-04-14 15:40:44</td>\n",
       "      <td>105</td>\n",
       "      <td>X</td>\n",
       "      <td>9523.0</td>\n",
       "    </tr>\n",
       "    <tr>\n",
       "      <th>397525</th>\n",
       "      <td>1501605</td>\n",
       "      <td>6614631.0</td>\n",
       "      <td>2017-04-22 11:42:48</td>\n",
       "      <td>102</td>\n",
       "      <td>K</td>\n",
       "      <td>9898.0</td>\n",
       "    </tr>\n",
       "  </tbody>\n",
       "</table>\n",
       "<p>397526 rows × 6 columns</p>\n",
       "</div>"
      ],
      "text/plain": [
       "        CUSTOMER_ID  SALESFILE_ID      SF_CREATE_DATE  STATUS REQ_BRAND_CODE  \\\n",
       "0           1712792     7274467.0 2017-11-17 12:15:39     101              Y   \n",
       "1           1149729     4839430.0 2015-11-11 17:03:28     102              K   \n",
       "2           1697993     4847398.0 2015-11-14 11:15:51     102              Y   \n",
       "3           1680258     3817349.0 2014-12-23 17:26:09     105              Y   \n",
       "4           1244973     8079074.0 2018-08-28 12:55:04     101              K   \n",
       "...             ...           ...                 ...     ...            ...   \n",
       "397521      1151001     3504117.0 2014-09-17 12:30:13     102              K   \n",
       "397522      1581191     3518578.0 2014-09-22 20:14:38     105              K   \n",
       "397523      1535801     3526258.0 2014-09-25 12:01:58     102              T   \n",
       "397524      1205995     6592609.0 2017-04-14 15:40:44     105              X   \n",
       "397525      1501605     6614631.0 2017-04-22 11:42:48     102              K   \n",
       "\n",
       "        REQ_TOPMODEL_CODE  \n",
       "0                  9231.0  \n",
       "1                  9184.0  \n",
       "2                  9231.0  \n",
       "3                  9362.0  \n",
       "4                  9901.0  \n",
       "...                   ...  \n",
       "397521             9435.0  \n",
       "397522             9176.0  \n",
       "397523             9352.0  \n",
       "397524             9523.0  \n",
       "397525             9898.0  \n",
       "\n",
       "[397526 rows x 6 columns]"
      ]
     },
     "execution_count": 14,
     "metadata": {},
     "output_type": "execute_result"
    }
   ],
   "source": [
    "sales_file"
   ]
  },
  {
   "cell_type": "code",
   "execution_count": 15,
   "id": "complex-refund",
   "metadata": {},
   "outputs": [
    {
     "data": {
      "text/plain": [
       "array([101, 102, 105, 100, 109, 106], dtype=int64)"
      ]
     },
     "execution_count": 15,
     "metadata": {},
     "output_type": "execute_result"
    }
   ],
   "source": [
    "sales_file['STATUS'].unique()"
   ]
  },
  {
   "cell_type": "markdown",
   "id": "framed-carolina",
   "metadata": {},
   "source": [
    "## FINAL_SIFIR_ARAC_ALANLAR_DATATHON"
   ]
  },
  {
   "cell_type": "code",
   "execution_count": 16,
   "id": "sixth-production",
   "metadata": {},
   "outputs": [
    {
     "name": "stderr",
     "output_type": "stream",
     "text": [
      "<ipython-input-16-31a25b1d6604>:4: FutureWarning: Series.dt.weekofyear and Series.dt.week have been deprecated.  Please use Series.dt.isocalendar().week instead.\n",
      "  sifir_arac_alanlar['week'] = sifir_arac_alanlar['CREATE_DATE'].dt.week.astype(str)\n"
     ]
    }
   ],
   "source": [
    "sifir_arac_alanlar['year'] = sifir_arac_alanlar['CREATE_DATE'].dt.year.astype(str)\n",
    "sifir_arac_alanlar['month'] = sifir_arac_alanlar['CREATE_DATE'].dt.month.astype(str)\n",
    "sifir_arac_alanlar['weekday'] = sifir_arac_alanlar['CREATE_DATE'].dt.weekday.astype(str)\n",
    "sifir_arac_alanlar['week'] = sifir_arac_alanlar['CREATE_DATE'].dt.week.astype(str)"
   ]
  },
  {
   "cell_type": "code",
   "execution_count": 17,
   "id": "stainless-hollow",
   "metadata": {},
   "outputs": [
    {
     "data": {
      "text/html": [
       "<div>\n",
       "<style scoped>\n",
       "    .dataframe tbody tr th:only-of-type {\n",
       "        vertical-align: middle;\n",
       "    }\n",
       "\n",
       "    .dataframe tbody tr th {\n",
       "        vertical-align: top;\n",
       "    }\n",
       "\n",
       "    .dataframe thead th {\n",
       "        text-align: right;\n",
       "    }\n",
       "</style>\n",
       "<table border=\"1\" class=\"dataframe\">\n",
       "  <thead>\n",
       "    <tr style=\"text-align: right;\">\n",
       "      <th></th>\n",
       "      <th>VEHICLE_ID</th>\n",
       "      <th>CUSTOMER_ID</th>\n",
       "      <th>CREATE_DATE</th>\n",
       "      <th>year</th>\n",
       "      <th>month</th>\n",
       "      <th>weekday</th>\n",
       "      <th>week</th>\n",
       "    </tr>\n",
       "  </thead>\n",
       "  <tbody>\n",
       "    <tr>\n",
       "      <th>0</th>\n",
       "      <td>5015193</td>\n",
       "      <td>1063740</td>\n",
       "      <td>2005-01-01 19:08:33</td>\n",
       "      <td>2005</td>\n",
       "      <td>1</td>\n",
       "      <td>5</td>\n",
       "      <td>53</td>\n",
       "    </tr>\n",
       "    <tr>\n",
       "      <th>1</th>\n",
       "      <td>5110231</td>\n",
       "      <td>1155678</td>\n",
       "      <td>2005-09-29 17:16:15</td>\n",
       "      <td>2005</td>\n",
       "      <td>9</td>\n",
       "      <td>3</td>\n",
       "      <td>39</td>\n",
       "    </tr>\n",
       "    <tr>\n",
       "      <th>2</th>\n",
       "      <td>5290356</td>\n",
       "      <td>1737831</td>\n",
       "      <td>2016-04-29 13:12:10</td>\n",
       "      <td>2016</td>\n",
       "      <td>4</td>\n",
       "      <td>4</td>\n",
       "      <td>17</td>\n",
       "    </tr>\n",
       "    <tr>\n",
       "      <th>3</th>\n",
       "      <td>5344576</td>\n",
       "      <td>1841362</td>\n",
       "      <td>2021-03-16 13:39:01</td>\n",
       "      <td>2021</td>\n",
       "      <td>3</td>\n",
       "      <td>1</td>\n",
       "      <td>11</td>\n",
       "    </tr>\n",
       "    <tr>\n",
       "      <th>4</th>\n",
       "      <td>5094010</td>\n",
       "      <td>1066916</td>\n",
       "      <td>2005-04-20 09:51:19</td>\n",
       "      <td>2005</td>\n",
       "      <td>4</td>\n",
       "      <td>2</td>\n",
       "      <td>16</td>\n",
       "    </tr>\n",
       "    <tr>\n",
       "      <th>...</th>\n",
       "      <td>...</td>\n",
       "      <td>...</td>\n",
       "      <td>...</td>\n",
       "      <td>...</td>\n",
       "      <td>...</td>\n",
       "      <td>...</td>\n",
       "      <td>...</td>\n",
       "    </tr>\n",
       "    <tr>\n",
       "      <th>169520</th>\n",
       "      <td>5160829</td>\n",
       "      <td>1269016</td>\n",
       "      <td>2009-06-10 16:16:15</td>\n",
       "      <td>2009</td>\n",
       "      <td>6</td>\n",
       "      <td>2</td>\n",
       "      <td>24</td>\n",
       "    </tr>\n",
       "    <tr>\n",
       "      <th>169521</th>\n",
       "      <td>5098542</td>\n",
       "      <td>1157563</td>\n",
       "      <td>2005-08-01 12:07:57</td>\n",
       "      <td>2005</td>\n",
       "      <td>8</td>\n",
       "      <td>0</td>\n",
       "      <td>31</td>\n",
       "    </tr>\n",
       "    <tr>\n",
       "      <th>169522</th>\n",
       "      <td>5148086</td>\n",
       "      <td>1156732</td>\n",
       "      <td>2007-12-28 17:15:09</td>\n",
       "      <td>2007</td>\n",
       "      <td>12</td>\n",
       "      <td>4</td>\n",
       "      <td>52</td>\n",
       "    </tr>\n",
       "    <tr>\n",
       "      <th>169523</th>\n",
       "      <td>5263144</td>\n",
       "      <td>1032834</td>\n",
       "      <td>2015-06-24 11:19:15</td>\n",
       "      <td>2015</td>\n",
       "      <td>6</td>\n",
       "      <td>2</td>\n",
       "      <td>26</td>\n",
       "    </tr>\n",
       "    <tr>\n",
       "      <th>169524</th>\n",
       "      <td>5026911</td>\n",
       "      <td>1058351</td>\n",
       "      <td>2005-01-01 14:46:45</td>\n",
       "      <td>2005</td>\n",
       "      <td>1</td>\n",
       "      <td>5</td>\n",
       "      <td>53</td>\n",
       "    </tr>\n",
       "  </tbody>\n",
       "</table>\n",
       "<p>169525 rows × 7 columns</p>\n",
       "</div>"
      ],
      "text/plain": [
       "        VEHICLE_ID  CUSTOMER_ID         CREATE_DATE  year month weekday week\n",
       "0          5015193      1063740 2005-01-01 19:08:33  2005     1       5   53\n",
       "1          5110231      1155678 2005-09-29 17:16:15  2005     9       3   39\n",
       "2          5290356      1737831 2016-04-29 13:12:10  2016     4       4   17\n",
       "3          5344576      1841362 2021-03-16 13:39:01  2021     3       1   11\n",
       "4          5094010      1066916 2005-04-20 09:51:19  2005     4       2   16\n",
       "...            ...          ...                 ...   ...   ...     ...  ...\n",
       "169520     5160829      1269016 2009-06-10 16:16:15  2009     6       2   24\n",
       "169521     5098542      1157563 2005-08-01 12:07:57  2005     8       0   31\n",
       "169522     5148086      1156732 2007-12-28 17:15:09  2007    12       4   52\n",
       "169523     5263144      1032834 2015-06-24 11:19:15  2015     6       2   26\n",
       "169524     5026911      1058351 2005-01-01 14:46:45  2005     1       5   53\n",
       "\n",
       "[169525 rows x 7 columns]"
      ]
     },
     "execution_count": 17,
     "metadata": {},
     "output_type": "execute_result"
    }
   ],
   "source": [
    "sifir_arac_alanlar"
   ]
  },
  {
   "cell_type": "markdown",
   "id": "acoustic-lemon",
   "metadata": {},
   "source": [
    "## FINAL_VEHICLE_TABLE_DATATHON"
   ]
  },
  {
   "cell_type": "code",
   "execution_count": 18,
   "id": "hearing-input",
   "metadata": {},
   "outputs": [
    {
     "data": {
      "text/html": [
       "<div>\n",
       "<style scoped>\n",
       "    .dataframe tbody tr th:only-of-type {\n",
       "        vertical-align: middle;\n",
       "    }\n",
       "\n",
       "    .dataframe tbody tr th {\n",
       "        vertical-align: top;\n",
       "    }\n",
       "\n",
       "    .dataframe thead th {\n",
       "        text-align: right;\n",
       "    }\n",
       "</style>\n",
       "<table border=\"1\" class=\"dataframe\">\n",
       "  <thead>\n",
       "    <tr style=\"text-align: right;\">\n",
       "      <th></th>\n",
       "      <th>VEHICLE_ID</th>\n",
       "      <th>TRAFFIC_DATE</th>\n",
       "      <th>BRAND_CODE</th>\n",
       "      <th>BASEMODEL_CODE</th>\n",
       "      <th>TOPMODEL_CODE</th>\n",
       "      <th>MOTOR_GAS_TYPE</th>\n",
       "      <th>GEAR_BOX_TYPE</th>\n",
       "    </tr>\n",
       "  </thead>\n",
       "  <tbody>\n",
       "    <tr>\n",
       "      <th>0</th>\n",
       "      <td>5317713</td>\n",
       "      <td>2017-12-07</td>\n",
       "      <td>Z</td>\n",
       "      <td>13398</td>\n",
       "      <td>9349</td>\n",
       "      <td>Benzin</td>\n",
       "      <td>Manuel</td>\n",
       "    </tr>\n",
       "    <tr>\n",
       "      <th>1</th>\n",
       "      <td>5259212</td>\n",
       "      <td>2014-12-09</td>\n",
       "      <td>X</td>\n",
       "      <td>15694</td>\n",
       "      <td>9524</td>\n",
       "      <td>Dizel</td>\n",
       "      <td>Otomatik (DSG)</td>\n",
       "    </tr>\n",
       "    <tr>\n",
       "      <th>2</th>\n",
       "      <td>5110414</td>\n",
       "      <td>2005-12-12</td>\n",
       "      <td>Y</td>\n",
       "      <td>11183</td>\n",
       "      <td>9118</td>\n",
       "      <td>Kurşunsuz Benzin</td>\n",
       "      <td>Otomatik</td>\n",
       "    </tr>\n",
       "    <tr>\n",
       "      <th>3</th>\n",
       "      <td>5101263</td>\n",
       "      <td>2005-08-23</td>\n",
       "      <td>X</td>\n",
       "      <td>15039</td>\n",
       "      <td>9495</td>\n",
       "      <td>Benzin</td>\n",
       "      <td>Manuel</td>\n",
       "    </tr>\n",
       "    <tr>\n",
       "      <th>4</th>\n",
       "      <td>5053909</td>\n",
       "      <td>2003-04-09</td>\n",
       "      <td>Y</td>\n",
       "      <td>12255</td>\n",
       "      <td>9219</td>\n",
       "      <td>NaN</td>\n",
       "      <td>NaN</td>\n",
       "    </tr>\n",
       "  </tbody>\n",
       "</table>\n",
       "</div>"
      ],
      "text/plain": [
       "   VEHICLE_ID TRAFFIC_DATE BRAND_CODE  BASEMODEL_CODE  TOPMODEL_CODE  \\\n",
       "0     5317713   2017-12-07          Z           13398           9349   \n",
       "1     5259212   2014-12-09          X           15694           9524   \n",
       "2     5110414   2005-12-12          Y           11183           9118   \n",
       "3     5101263   2005-08-23          X           15039           9495   \n",
       "4     5053909   2003-04-09          Y           12255           9219   \n",
       "\n",
       "     MOTOR_GAS_TYPE   GEAR_BOX_TYPE  \n",
       "0            Benzin          Manuel  \n",
       "1             Dizel  Otomatik (DSG)  \n",
       "2  Kurşunsuz Benzin        Otomatik  \n",
       "3            Benzin          Manuel  \n",
       "4               NaN             NaN  "
      ]
     },
     "execution_count": 18,
     "metadata": {},
     "output_type": "execute_result"
    }
   ],
   "source": [
    "vehicle_table.head(5)"
   ]
  },
  {
   "cell_type": "code",
   "execution_count": 19,
   "id": "northern-cisco",
   "metadata": {},
   "outputs": [],
   "source": [
    "replace_for_gear_box_type = {'manuel':'Manuel', 'Otomatik (DSG)':'Otomatik(DSG)', 'Otomatik (DSG Şanzuman)':'Otomatik(DSG)',\n",
    "                      'Otomaik':'Otomatik', '?automatisch':'Otomatik', 'Sürekli değişken':'Sürekli-Değişken', \n",
    "                       'Sürekli Değişken':'Sürekli-Değişken',\n",
    "                      'Otomatik Değişken':'Otomatik', 'Düz':'Manuel', '?Handschaltung':'Manuel', 'Mekanik':'Manuel'}\n",
    "vehicle_table[\"GEAR_BOX_TYPE\"]=vehicle_table[\"GEAR_BOX_TYPE\"].replace(replace_for_gear_box_type)"
   ]
  },
  {
   "cell_type": "code",
   "execution_count": 20,
   "id": "measured-money",
   "metadata": {},
   "outputs": [],
   "source": [
    "replace_for_gas_type = {'?Benzin':'Benzin', 'Kurşunsuz benzin':'Benzin',\n",
    "                      'Benzin/Hybrid':'Benzin/Hibrit', 'Diesel':'Dizel'}\n",
    "vehicle_table[\"MOTOR_GAS_TYPE\"]=vehicle_table[\"MOTOR_GAS_TYPE\"].replace(replace_for_gas_type)"
   ]
  },
  {
   "cell_type": "markdown",
   "id": "arabic-april",
   "metadata": {},
   "source": [
    "## MASK_SERVIS_BAKIM_DATATHON_FINAL"
   ]
  },
  {
   "cell_type": "code",
   "execution_count": 21,
   "id": "vertical-display",
   "metadata": {},
   "outputs": [
    {
     "name": "stdout",
     "output_type": "stream",
     "text": [
      "Couldn't find program: 'False'\n"
     ]
    }
   ],
   "source": [
    "%%script False\n",
    "mask_servis_bakim.sort_values('CREATE_DATE', inplace=True)\n",
    "mask_servis_bakim.groupby(['VEHICLE_ID', 'IS_MAINTENANCE'])['CREATE_DATE'].diff().reset_index()"
   ]
  },
  {
   "cell_type": "code",
   "execution_count": 22,
   "id": "touched-round",
   "metadata": {},
   "outputs": [
    {
     "data": {
      "text/html": [
       "<div>\n",
       "<style scoped>\n",
       "    .dataframe tbody tr th:only-of-type {\n",
       "        vertical-align: middle;\n",
       "    }\n",
       "\n",
       "    .dataframe tbody tr th {\n",
       "        vertical-align: top;\n",
       "    }\n",
       "\n",
       "    .dataframe thead th {\n",
       "        text-align: right;\n",
       "    }\n",
       "</style>\n",
       "<table border=\"1\" class=\"dataframe\">\n",
       "  <thead>\n",
       "    <tr style=\"text-align: right;\">\n",
       "      <th></th>\n",
       "      <th>CREATE_DATE</th>\n",
       "      <th>IS_MAINTENANCE</th>\n",
       "      <th>VEHICLE_ID</th>\n",
       "      <th>TOTAL_AMOUNT_TL</th>\n",
       "    </tr>\n",
       "  </thead>\n",
       "  <tbody>\n",
       "    <tr>\n",
       "      <th>0</th>\n",
       "      <td>2010-12-29 10:50:56</td>\n",
       "      <td>1</td>\n",
       "      <td>5000001</td>\n",
       "      <td>192.0</td>\n",
       "    </tr>\n",
       "    <tr>\n",
       "      <th>1</th>\n",
       "      <td>2013-08-21 10:34:21</td>\n",
       "      <td>1</td>\n",
       "      <td>5000001</td>\n",
       "      <td>267.0</td>\n",
       "    </tr>\n",
       "    <tr>\n",
       "      <th>2</th>\n",
       "      <td>2015-11-30 10:55:00</td>\n",
       "      <td>1</td>\n",
       "      <td>5000001</td>\n",
       "      <td>1747.0</td>\n",
       "    </tr>\n",
       "    <tr>\n",
       "      <th>3</th>\n",
       "      <td>2015-12-09 13:38:49</td>\n",
       "      <td>0</td>\n",
       "      <td>5000001</td>\n",
       "      <td>465.0</td>\n",
       "    </tr>\n",
       "    <tr>\n",
       "      <th>4</th>\n",
       "      <td>2017-11-23 09:53:22</td>\n",
       "      <td>1</td>\n",
       "      <td>5000001</td>\n",
       "      <td>549.0</td>\n",
       "    </tr>\n",
       "    <tr>\n",
       "      <th>...</th>\n",
       "      <td>...</td>\n",
       "      <td>...</td>\n",
       "      <td>...</td>\n",
       "      <td>...</td>\n",
       "    </tr>\n",
       "    <tr>\n",
       "      <th>1040995</th>\n",
       "      <td>2021-05-20 14:58:31</td>\n",
       "      <td>0</td>\n",
       "      <td>5344976</td>\n",
       "      <td>1180.0</td>\n",
       "    </tr>\n",
       "    <tr>\n",
       "      <th>1040996</th>\n",
       "      <td>2021-05-24 09:57:34</td>\n",
       "      <td>0</td>\n",
       "      <td>5344981</td>\n",
       "      <td>0.0</td>\n",
       "    </tr>\n",
       "    <tr>\n",
       "      <th>1040997</th>\n",
       "      <td>2021-05-25 12:44:02</td>\n",
       "      <td>0</td>\n",
       "      <td>5344999</td>\n",
       "      <td>3258.0</td>\n",
       "    </tr>\n",
       "    <tr>\n",
       "      <th>1040998</th>\n",
       "      <td>2021-05-27 09:45:00</td>\n",
       "      <td>0</td>\n",
       "      <td>5345037</td>\n",
       "      <td>1.0</td>\n",
       "    </tr>\n",
       "    <tr>\n",
       "      <th>1040999</th>\n",
       "      <td>2021-05-28 13:46:36</td>\n",
       "      <td>0</td>\n",
       "      <td>5345048</td>\n",
       "      <td>604.0</td>\n",
       "    </tr>\n",
       "  </tbody>\n",
       "</table>\n",
       "<p>1041000 rows × 4 columns</p>\n",
       "</div>"
      ],
      "text/plain": [
       "                CREATE_DATE  IS_MAINTENANCE  VEHICLE_ID  TOTAL_AMOUNT_TL\n",
       "0       2010-12-29 10:50:56               1     5000001            192.0\n",
       "1       2013-08-21 10:34:21               1     5000001            267.0\n",
       "2       2015-11-30 10:55:00               1     5000001           1747.0\n",
       "3       2015-12-09 13:38:49               0     5000001            465.0\n",
       "4       2017-11-23 09:53:22               1     5000001            549.0\n",
       "...                     ...             ...         ...              ...\n",
       "1040995 2021-05-20 14:58:31               0     5344976           1180.0\n",
       "1040996 2021-05-24 09:57:34               0     5344981              0.0\n",
       "1040997 2021-05-25 12:44:02               0     5344999           3258.0\n",
       "1040998 2021-05-27 09:45:00               0     5345037              1.0\n",
       "1040999 2021-05-28 13:46:36               0     5345048            604.0\n",
       "\n",
       "[1041000 rows x 4 columns]"
      ]
     },
     "execution_count": 22,
     "metadata": {},
     "output_type": "execute_result"
    }
   ],
   "source": [
    "mask_servis_bakim"
   ]
  },
  {
   "cell_type": "markdown",
   "id": "severe-gallery",
   "metadata": {},
   "source": [
    "### monthly check"
   ]
  },
  {
   "cell_type": "code",
   "execution_count": 23,
   "id": "trying-luxembourg",
   "metadata": {},
   "outputs": [],
   "source": [
    "unq_custs = pd.DataFrame(customer.BASE_CUSTOMER_ID.unique(), columns=['BASE_CUSTOMER_ID'])\n",
    "unq_custs['key'] = 1\n",
    "dates = pd.DataFrame(pd.date_range('2010-01', '2021-05', freq='M'), columns=['date'])\n",
    "dates['key'] = 1\n",
    "customer_data = pd.merge(unq_custs, dates, on=['key'])"
   ]
  },
  {
   "cell_type": "code",
   "execution_count": 24,
   "id": "roman-republic",
   "metadata": {},
   "outputs": [],
   "source": [
    "customer_related_table['END_DATE'] = customer_related_table['END_DATE'].fillna(pd.Timestamp('2021-05-31'))"
   ]
  },
  {
   "cell_type": "code",
   "execution_count": 25,
   "id": "eight-class",
   "metadata": {},
   "outputs": [],
   "source": [
    "car_ownership = pd.merge(customer_data, customer_related_table, on=['BASE_CUSTOMER_ID'], how='left')\n",
    "car_ownership = car_ownership[car_ownership['date']>car_ownership['START_DATE']]\n",
    "car_ownership.loc[car_ownership['date']>car_ownership['END_DATE'], 'status'] = 0 # passive ownership\n",
    "car_ownership.loc[car_ownership['date']<car_ownership['END_DATE'], 'status'] = 1 # active ownership"
   ]
  },
  {
   "cell_type": "code",
   "execution_count": 26,
   "id": "furnished-cookbook",
   "metadata": {},
   "outputs": [],
   "source": [
    "act_indexes = car_ownership[car_ownership['status']==1].index\n",
    "pass_indexes = car_ownership[car_ownership['status']==0].index\n",
    "car_ownership.loc[act_indexes, 'ownership_period'] = car_ownership.loc[act_indexes, 'date']-car_ownership.loc[act_indexes, 'START_DATE']\n",
    "car_ownership.loc[pass_indexes, 'ownership_period'] = car_ownership.loc[pass_indexes, 'END_DATE']-car_ownership.loc[pass_indexes, 'START_DATE']"
   ]
  },
  {
   "cell_type": "code",
   "execution_count": 27,
   "id": "aquatic-marking",
   "metadata": {},
   "outputs": [],
   "source": [
    "car_ownership['ownership_month'] = car_ownership['START_DATE'].dt.month.astype(str)\n",
    "car_ownership['status2'] = car_ownership['status']\n",
    "car_ownership['ownership_period'] = car_ownership['ownership_period'].dt.days"
   ]
  },
  {
   "cell_type": "code",
   "execution_count": 28,
   "id": "prime-crash",
   "metadata": {},
   "outputs": [],
   "source": [
    "car_ownership_summary = car_ownership.groupby(['BASE_CUSTOMER_ID', 'date']).agg({'status':'sum', \n",
    "                                                        'status2':'count', \n",
    "                                                        'ownership_period':'mean',\n",
    "                                                        'ownership_month': lambda x: ' '.join(x)}).reset_index()\n",
    "car_ownership_summary.columns = ['BASE_CUSTOMER_ID', 'date', 'active_cars', 'all_cars', 'avg_ownership_period', 'ownership_months']\n",
    "# VEHICLE_ID kullanılarak araçla ilgili bilgiler ve servisle ilgili bilgiler çekilebilir"
   ]
  },
  {
   "cell_type": "code",
   "execution_count": 29,
   "id": "bibliographic-intake",
   "metadata": {},
   "outputs": [],
   "source": [
    "sales_file = pd.merge(sales_file, customer[['BASE_CUSTOMER_ID', 'CUSTOMER_ID']], on=['CUSTOMER_ID'], how='left')"
   ]
  },
  {
   "cell_type": "code",
   "execution_count": 30,
   "id": "preliminary-candy",
   "metadata": {},
   "outputs": [],
   "source": [
    "customer_data['end_of_month'] = customer_data['date']\n",
    "customer_data['beginning_of_month'] = customer_data['date'].apply(lambda x: pd.Timestamp(x.year, x.month, 1))"
   ]
  },
  {
   "cell_type": "code",
   "execution_count": 31,
   "id": "turkish-blame",
   "metadata": {},
   "outputs": [],
   "source": [
    "customer_sales_df = pd.merge(customer_data, sales_file, on=['BASE_CUSTOMER_ID'], how='left')"
   ]
  },
  {
   "cell_type": "code",
   "execution_count": 32,
   "id": "checked-makeup",
   "metadata": {},
   "outputs": [
    {
     "data": {
      "text/html": [
       "<div>\n",
       "<style scoped>\n",
       "    .dataframe tbody tr th:only-of-type {\n",
       "        vertical-align: middle;\n",
       "    }\n",
       "\n",
       "    .dataframe tbody tr th {\n",
       "        vertical-align: top;\n",
       "    }\n",
       "\n",
       "    .dataframe thead th {\n",
       "        text-align: right;\n",
       "    }\n",
       "</style>\n",
       "<table border=\"1\" class=\"dataframe\">\n",
       "  <thead>\n",
       "    <tr style=\"text-align: right;\">\n",
       "      <th></th>\n",
       "      <th>CUSTOMER_ID</th>\n",
       "      <th>SALESFILE_ID</th>\n",
       "      <th>SF_CREATE_DATE</th>\n",
       "      <th>STATUS</th>\n",
       "      <th>REQ_BRAND_CODE</th>\n",
       "      <th>REQ_TOPMODEL_CODE</th>\n",
       "      <th>BASE_CUSTOMER_ID</th>\n",
       "    </tr>\n",
       "  </thead>\n",
       "  <tbody>\n",
       "    <tr>\n",
       "      <th>0</th>\n",
       "      <td>1712792</td>\n",
       "      <td>7274467.0</td>\n",
       "      <td>2017-11-17 12:15:39</td>\n",
       "      <td>101</td>\n",
       "      <td>Y</td>\n",
       "      <td>9231.0</td>\n",
       "      <td>31024</td>\n",
       "    </tr>\n",
       "    <tr>\n",
       "      <th>1</th>\n",
       "      <td>1149729</td>\n",
       "      <td>4839430.0</td>\n",
       "      <td>2015-11-11 17:03:28</td>\n",
       "      <td>102</td>\n",
       "      <td>K</td>\n",
       "      <td>9184.0</td>\n",
       "      <td>34723</td>\n",
       "    </tr>\n",
       "    <tr>\n",
       "      <th>2</th>\n",
       "      <td>1697993</td>\n",
       "      <td>4847398.0</td>\n",
       "      <td>2015-11-14 11:15:51</td>\n",
       "      <td>102</td>\n",
       "      <td>Y</td>\n",
       "      <td>9231.0</td>\n",
       "      <td>133025</td>\n",
       "    </tr>\n",
       "    <tr>\n",
       "      <th>3</th>\n",
       "      <td>1680258</td>\n",
       "      <td>3817349.0</td>\n",
       "      <td>2014-12-23 17:26:09</td>\n",
       "      <td>105</td>\n",
       "      <td>Y</td>\n",
       "      <td>9362.0</td>\n",
       "      <td>188043</td>\n",
       "    </tr>\n",
       "    <tr>\n",
       "      <th>4</th>\n",
       "      <td>1244973</td>\n",
       "      <td>8079074.0</td>\n",
       "      <td>2018-08-28 12:55:04</td>\n",
       "      <td>101</td>\n",
       "      <td>K</td>\n",
       "      <td>9901.0</td>\n",
       "      <td>60402</td>\n",
       "    </tr>\n",
       "    <tr>\n",
       "      <th>...</th>\n",
       "      <td>...</td>\n",
       "      <td>...</td>\n",
       "      <td>...</td>\n",
       "      <td>...</td>\n",
       "      <td>...</td>\n",
       "      <td>...</td>\n",
       "      <td>...</td>\n",
       "    </tr>\n",
       "    <tr>\n",
       "      <th>397521</th>\n",
       "      <td>1151001</td>\n",
       "      <td>3504117.0</td>\n",
       "      <td>2014-09-17 12:30:13</td>\n",
       "      <td>102</td>\n",
       "      <td>K</td>\n",
       "      <td>9435.0</td>\n",
       "      <td>91981</td>\n",
       "    </tr>\n",
       "    <tr>\n",
       "      <th>397522</th>\n",
       "      <td>1581191</td>\n",
       "      <td>3518578.0</td>\n",
       "      <td>2014-09-22 20:14:38</td>\n",
       "      <td>105</td>\n",
       "      <td>K</td>\n",
       "      <td>9176.0</td>\n",
       "      <td>85131</td>\n",
       "    </tr>\n",
       "    <tr>\n",
       "      <th>397523</th>\n",
       "      <td>1535801</td>\n",
       "      <td>3526258.0</td>\n",
       "      <td>2014-09-25 12:01:58</td>\n",
       "      <td>102</td>\n",
       "      <td>T</td>\n",
       "      <td>9352.0</td>\n",
       "      <td>175291</td>\n",
       "    </tr>\n",
       "    <tr>\n",
       "      <th>397524</th>\n",
       "      <td>1205995</td>\n",
       "      <td>6592609.0</td>\n",
       "      <td>2017-04-14 15:40:44</td>\n",
       "      <td>105</td>\n",
       "      <td>X</td>\n",
       "      <td>9523.0</td>\n",
       "      <td>107878</td>\n",
       "    </tr>\n",
       "    <tr>\n",
       "      <th>397525</th>\n",
       "      <td>1501605</td>\n",
       "      <td>6614631.0</td>\n",
       "      <td>2017-04-22 11:42:48</td>\n",
       "      <td>102</td>\n",
       "      <td>K</td>\n",
       "      <td>9898.0</td>\n",
       "      <td>139971</td>\n",
       "    </tr>\n",
       "  </tbody>\n",
       "</table>\n",
       "<p>397526 rows × 7 columns</p>\n",
       "</div>"
      ],
      "text/plain": [
       "        CUSTOMER_ID  SALESFILE_ID      SF_CREATE_DATE  STATUS REQ_BRAND_CODE  \\\n",
       "0           1712792     7274467.0 2017-11-17 12:15:39     101              Y   \n",
       "1           1149729     4839430.0 2015-11-11 17:03:28     102              K   \n",
       "2           1697993     4847398.0 2015-11-14 11:15:51     102              Y   \n",
       "3           1680258     3817349.0 2014-12-23 17:26:09     105              Y   \n",
       "4           1244973     8079074.0 2018-08-28 12:55:04     101              K   \n",
       "...             ...           ...                 ...     ...            ...   \n",
       "397521      1151001     3504117.0 2014-09-17 12:30:13     102              K   \n",
       "397522      1581191     3518578.0 2014-09-22 20:14:38     105              K   \n",
       "397523      1535801     3526258.0 2014-09-25 12:01:58     102              T   \n",
       "397524      1205995     6592609.0 2017-04-14 15:40:44     105              X   \n",
       "397525      1501605     6614631.0 2017-04-22 11:42:48     102              K   \n",
       "\n",
       "        REQ_TOPMODEL_CODE  BASE_CUSTOMER_ID  \n",
       "0                  9231.0             31024  \n",
       "1                  9184.0             34723  \n",
       "2                  9231.0            133025  \n",
       "3                  9362.0            188043  \n",
       "4                  9901.0             60402  \n",
       "...                   ...               ...  \n",
       "397521             9435.0             91981  \n",
       "397522             9176.0             85131  \n",
       "397523             9352.0            175291  \n",
       "397524             9523.0            107878  \n",
       "397525             9898.0            139971  \n",
       "\n",
       "[397526 rows x 7 columns]"
      ]
     },
     "execution_count": 32,
     "metadata": {},
     "output_type": "execute_result"
    }
   ],
   "source": [
    "sales_file"
   ]
  },
  {
   "cell_type": "code",
   "execution_count": 33,
   "id": "expressed-messenger",
   "metadata": {},
   "outputs": [],
   "source": [
    "customer_sales_df['label'] = 0\n",
    "customer_sales_df.loc[customer_sales_df.query(\"beginning_of_month < SF_CREATE_DATE < end_of_month\").index, 'label'] = 1"
   ]
  },
  {
   "cell_type": "code",
   "execution_count": 34,
   "id": "departmental-england",
   "metadata": {},
   "outputs": [],
   "source": [
    "customer_sales_df = customer_sales_df[customer_sales_df['date']>customer_sales_df['SF_CREATE_DATE']]"
   ]
  },
  {
   "cell_type": "code",
   "execution_count": 35,
   "id": "massive-haiti",
   "metadata": {},
   "outputs": [],
   "source": [
    "customer_sales_df.loc[:,'create_year'] = customer_sales_df['SF_CREATE_DATE'].dt.year.astype(str)\n",
    "customer_sales_df.loc[:,'create_month'] = customer_sales_df['SF_CREATE_DATE'].dt.month.astype(str)\n",
    "customer_sales_df.loc[:,'STATUS'] = customer_sales_df['STATUS'].astype(str)\n",
    "customer_sales_df.loc[:,'REQ_TOPMODEL_CODE'] = customer_sales_df['REQ_TOPMODEL_CODE'].astype(str)"
   ]
  },
  {
   "cell_type": "code",
   "execution_count": 36,
   "id": "correct-montreal",
   "metadata": {},
   "outputs": [],
   "source": [
    "customer_sales_df = customer_sales_df.groupby(['BASE_CUSTOMER_ID', 'date']).agg({'CUSTOMER_ID':'count',\n",
    "                                                               'SALESFILE_ID':'count',\n",
    "                                                                'create_year':lambda x: ' '.join(x),\n",
    "                                                                'create_month':lambda x: ' '.join(x),\n",
    "                                                                'STATUS': lambda x: ' '.join(x),\n",
    "                                                                'REQ_BRAND_CODE':lambda x: ' '.join(x),\n",
    "                                                                'REQ_TOPMODEL_CODE':lambda x: ' '.join(x),\n",
    "                                                                'label':'max'}).reset_index()"
   ]
  },
  {
   "cell_type": "code",
   "execution_count": 37,
   "id": "coastal-unknown",
   "metadata": {},
   "outputs": [],
   "source": [
    "customer_sales_df.columns = ['BASE_CUSTOMER_ID', 'date', 'CUSTOMER_ID_count', 'SALESFILE_ID_count',\n",
    "       'create_year', 'create_month', 'STATUS', 'all_REQ_BRAND_CODE',\n",
    "       'all_REQ_TOPMODEL_CODE', 'label']"
   ]
  },
  {
   "cell_type": "code",
   "execution_count": 38,
   "id": "ambient-register",
   "metadata": {},
   "outputs": [],
   "source": [
    "train_df = pd.merge(customer_sales_df, car_ownership_summary, on=['BASE_CUSTOMER_ID', 'date'], how='left')"
   ]
  },
  {
   "cell_type": "code",
   "execution_count": 39,
   "id": "surprised-input",
   "metadata": {},
   "outputs": [
    {
     "data": {
      "text/plain": [
       "BASE_CUSTOMER_ID              0\n",
       "date                          0\n",
       "CUSTOMER_ID_count             0\n",
       "SALESFILE_ID_count            0\n",
       "create_year                   0\n",
       "create_month                  0\n",
       "STATUS                        0\n",
       "all_REQ_BRAND_CODE            0\n",
       "all_REQ_TOPMODEL_CODE         0\n",
       "label                         0\n",
       "active_cars              844578\n",
       "all_cars                 844578\n",
       "avg_ownership_period     845087\n",
       "ownership_months         844578\n",
       "dtype: int64"
      ]
     },
     "execution_count": 39,
     "metadata": {},
     "output_type": "execute_result"
    }
   ],
   "source": [
    "train_df.isna().sum()"
   ]
  },
  {
   "cell_type": "code",
   "execution_count": 40,
   "id": "embedded-matter",
   "metadata": {},
   "outputs": [
    {
     "data": {
      "text/html": [
       "<div>\n",
       "<style scoped>\n",
       "    .dataframe tbody tr th:only-of-type {\n",
       "        vertical-align: middle;\n",
       "    }\n",
       "\n",
       "    .dataframe tbody tr th {\n",
       "        vertical-align: top;\n",
       "    }\n",
       "\n",
       "    .dataframe thead th {\n",
       "        text-align: right;\n",
       "    }\n",
       "</style>\n",
       "<table border=\"1\" class=\"dataframe\">\n",
       "  <thead>\n",
       "    <tr style=\"text-align: right;\">\n",
       "      <th></th>\n",
       "      <th>BASE_CUSTOMER_ID</th>\n",
       "      <th>date</th>\n",
       "      <th>CUSTOMER_ID_count</th>\n",
       "      <th>SALESFILE_ID_count</th>\n",
       "      <th>create_year</th>\n",
       "      <th>create_month</th>\n",
       "      <th>STATUS</th>\n",
       "      <th>all_REQ_BRAND_CODE</th>\n",
       "      <th>all_REQ_TOPMODEL_CODE</th>\n",
       "      <th>label</th>\n",
       "      <th>active_cars</th>\n",
       "      <th>all_cars</th>\n",
       "      <th>avg_ownership_period</th>\n",
       "      <th>ownership_months</th>\n",
       "    </tr>\n",
       "  </thead>\n",
       "  <tbody>\n",
       "    <tr>\n",
       "      <th>0</th>\n",
       "      <td>1</td>\n",
       "      <td>2011-08-31</td>\n",
       "      <td>1</td>\n",
       "      <td>1</td>\n",
       "      <td>2011</td>\n",
       "      <td>8</td>\n",
       "      <td>102.0</td>\n",
       "      <td>Y</td>\n",
       "      <td>9357.0</td>\n",
       "      <td>1</td>\n",
       "      <td>1.0</td>\n",
       "      <td>1.0</td>\n",
       "      <td>4101.0</td>\n",
       "      <td>6</td>\n",
       "    </tr>\n",
       "    <tr>\n",
       "      <th>1</th>\n",
       "      <td>1</td>\n",
       "      <td>2011-09-30</td>\n",
       "      <td>1</td>\n",
       "      <td>1</td>\n",
       "      <td>2011</td>\n",
       "      <td>8</td>\n",
       "      <td>102.0</td>\n",
       "      <td>Y</td>\n",
       "      <td>9357.0</td>\n",
       "      <td>0</td>\n",
       "      <td>1.0</td>\n",
       "      <td>1.0</td>\n",
       "      <td>4131.0</td>\n",
       "      <td>6</td>\n",
       "    </tr>\n",
       "    <tr>\n",
       "      <th>2</th>\n",
       "      <td>1</td>\n",
       "      <td>2011-10-31</td>\n",
       "      <td>1</td>\n",
       "      <td>1</td>\n",
       "      <td>2011</td>\n",
       "      <td>8</td>\n",
       "      <td>102.0</td>\n",
       "      <td>Y</td>\n",
       "      <td>9357.0</td>\n",
       "      <td>0</td>\n",
       "      <td>1.0</td>\n",
       "      <td>1.0</td>\n",
       "      <td>4162.0</td>\n",
       "      <td>6</td>\n",
       "    </tr>\n",
       "  </tbody>\n",
       "</table>\n",
       "</div>"
      ],
      "text/plain": [
       "   BASE_CUSTOMER_ID       date  CUSTOMER_ID_count  SALESFILE_ID_count  \\\n",
       "0                 1 2011-08-31                  1                   1   \n",
       "1                 1 2011-09-30                  1                   1   \n",
       "2                 1 2011-10-31                  1                   1   \n",
       "\n",
       "  create_year create_month STATUS all_REQ_BRAND_CODE all_REQ_TOPMODEL_CODE  \\\n",
       "0        2011            8  102.0                  Y                9357.0   \n",
       "1        2011            8  102.0                  Y                9357.0   \n",
       "2        2011            8  102.0                  Y                9357.0   \n",
       "\n",
       "   label  active_cars  all_cars  avg_ownership_period ownership_months  \n",
       "0      1          1.0       1.0                4101.0                6  \n",
       "1      0          1.0       1.0                4131.0                6  \n",
       "2      0          1.0       1.0                4162.0                6  "
      ]
     },
     "execution_count": 40,
     "metadata": {},
     "output_type": "execute_result"
    }
   ],
   "source": [
    "train_df.head(3)"
   ]
  },
  {
   "cell_type": "markdown",
   "id": "directed-strap",
   "metadata": {},
   "source": [
    "+ convert customer monthly basis\n",
    "\n",
    "2. customer - sifir_arac_alanlar on customer_id  \n",
    "+ merge customer - sales_file on customer_id \n",
    "+ merge customer - customer_related_table  on base_customer_id \n",
    "5. mask_servis_bakim ve vehicle_table on vehicle_id as vehicle_table\n",
    "6. customer_related_table - vehicle_table on vehicle_id   "
   ]
  },
  {
   "cell_type": "code",
   "execution_count": 41,
   "id": "sustained-wellington",
   "metadata": {},
   "outputs": [],
   "source": [
    "sifir_arac_alanlar = pd.merge(sifir_arac_alanlar, vehicle_table, on=['VEHICLE_ID'], how='left')\n",
    "sifir_arac_alanlar = pd.merge(sifir_arac_alanlar, customer[['BASE_CUSTOMER_ID', 'CUSTOMER_ID']], on=['CUSTOMER_ID'], how='left')"
   ]
  },
  {
   "cell_type": "code",
   "execution_count": 42,
   "id": "instructional-waterproof",
   "metadata": {},
   "outputs": [],
   "source": [
    "sifir_arac_summary = pd.merge(customer_data[['BASE_CUSTOMER_ID', 'date']], sifir_arac_alanlar, on=['BASE_CUSTOMER_ID'], how='left')\n",
    "sifir_arac_summary = sifir_arac_summary.query('date > CREATE_DATE')"
   ]
  },
  {
   "cell_type": "code",
   "execution_count": 43,
   "id": "varying-substitute",
   "metadata": {},
   "outputs": [
    {
     "data": {
      "text/plain": [
       "array(['Dizel', 'Benzin', nan, 'Kurşunsuz Benzin', 'Seçiniz',\n",
       "       'Benzin/Hibrit', 'Dizel/Hibrit'], dtype=object)"
      ]
     },
     "execution_count": 43,
     "metadata": {},
     "output_type": "execute_result"
    }
   ],
   "source": [
    "sifir_arac_summary.MOTOR_GAS_TYPE.unique()"
   ]
  },
  {
   "cell_type": "code",
   "execution_count": 44,
   "id": "exotic-commissioner",
   "metadata": {},
   "outputs": [],
   "source": [
    "sifir_arac_summary['traffic_year'] = sifir_arac_summary['TRAFFIC_DATE'].dt.year.astype(str)\n",
    "sifir_arac_summary['traffic_month'] = sifir_arac_summary['TRAFFIC_DATE'].dt.month.astype(str)\n",
    "sifir_arac_summary['BRAND_CODE'] = sifir_arac_summary['BRAND_CODE'].astype(str)\n",
    "sifir_arac_summary['MOTOR_GAS_TYPE'] = sifir_arac_summary['MOTOR_GAS_TYPE'].astype(str)\n",
    "sifir_arac_summary['GEAR_BOX_TYPE'] = sifir_arac_summary['GEAR_BOX_TYPE'].astype(str)"
   ]
  },
  {
   "cell_type": "code",
   "execution_count": 45,
   "id": "miniature-determination",
   "metadata": {
    "scrolled": true
   },
   "outputs": [],
   "source": [
    "sifir_arac_summary = sifir_arac_summary.groupby(['BASE_CUSTOMER_ID', 'date']).agg({'VEHICLE_ID':'count',\n",
    "                                                                'year':lambda x: ' '.join(x),\n",
    "                                                                'month':lambda x: ' '.join(x),\n",
    "                                                                'traffic_year': lambda x: ' '.join(x),\n",
    "                                                                'traffic_month':lambda x: ' '.join(x),\n",
    "                                                                'MOTOR_GAS_TYPE':lambda x: ' '.join(x),\n",
    "                                                              'GEAR_BOX_TYPE':lambda x: ' '.join(x),\n",
    "                                                              'BRAND_CODE':lambda x: ' '.join(x),}).reset_index()"
   ]
  },
  {
   "cell_type": "code",
   "execution_count": 46,
   "id": "significant-campus",
   "metadata": {},
   "outputs": [
    {
     "data": {
      "text/html": [
       "<div>\n",
       "<style scoped>\n",
       "    .dataframe tbody tr th:only-of-type {\n",
       "        vertical-align: middle;\n",
       "    }\n",
       "\n",
       "    .dataframe tbody tr th {\n",
       "        vertical-align: top;\n",
       "    }\n",
       "\n",
       "    .dataframe thead th {\n",
       "        text-align: right;\n",
       "    }\n",
       "</style>\n",
       "<table border=\"1\" class=\"dataframe\">\n",
       "  <thead>\n",
       "    <tr style=\"text-align: right;\">\n",
       "      <th></th>\n",
       "      <th>BASE_CUSTOMER_ID</th>\n",
       "      <th>date</th>\n",
       "      <th>VEHICLE_ID</th>\n",
       "      <th>year</th>\n",
       "      <th>month</th>\n",
       "      <th>traffic_year</th>\n",
       "      <th>traffic_month</th>\n",
       "      <th>MOTOR_GAS_TYPE</th>\n",
       "      <th>GEAR_BOX_TYPE</th>\n",
       "      <th>BRAND_CODE</th>\n",
       "    </tr>\n",
       "  </thead>\n",
       "  <tbody>\n",
       "    <tr>\n",
       "      <th>0</th>\n",
       "      <td>4</td>\n",
       "      <td>2010-01-31</td>\n",
       "      <td>1</td>\n",
       "      <td>2007</td>\n",
       "      <td>3</td>\n",
       "      <td>2007.0</td>\n",
       "      <td>3.0</td>\n",
       "      <td>Kurşunsuz Benzin</td>\n",
       "      <td>Manuel</td>\n",
       "      <td>Y</td>\n",
       "    </tr>\n",
       "    <tr>\n",
       "      <th>1</th>\n",
       "      <td>4</td>\n",
       "      <td>2010-02-28</td>\n",
       "      <td>1</td>\n",
       "      <td>2007</td>\n",
       "      <td>3</td>\n",
       "      <td>2007.0</td>\n",
       "      <td>3.0</td>\n",
       "      <td>Kurşunsuz Benzin</td>\n",
       "      <td>Manuel</td>\n",
       "      <td>Y</td>\n",
       "    </tr>\n",
       "    <tr>\n",
       "      <th>2</th>\n",
       "      <td>4</td>\n",
       "      <td>2010-03-31</td>\n",
       "      <td>1</td>\n",
       "      <td>2007</td>\n",
       "      <td>3</td>\n",
       "      <td>2007.0</td>\n",
       "      <td>3.0</td>\n",
       "      <td>Kurşunsuz Benzin</td>\n",
       "      <td>Manuel</td>\n",
       "      <td>Y</td>\n",
       "    </tr>\n",
       "    <tr>\n",
       "      <th>3</th>\n",
       "      <td>4</td>\n",
       "      <td>2010-04-30</td>\n",
       "      <td>1</td>\n",
       "      <td>2007</td>\n",
       "      <td>3</td>\n",
       "      <td>2007.0</td>\n",
       "      <td>3.0</td>\n",
       "      <td>Kurşunsuz Benzin</td>\n",
       "      <td>Manuel</td>\n",
       "      <td>Y</td>\n",
       "    </tr>\n",
       "    <tr>\n",
       "      <th>4</th>\n",
       "      <td>4</td>\n",
       "      <td>2010-05-31</td>\n",
       "      <td>1</td>\n",
       "      <td>2007</td>\n",
       "      <td>3</td>\n",
       "      <td>2007.0</td>\n",
       "      <td>3.0</td>\n",
       "      <td>Kurşunsuz Benzin</td>\n",
       "      <td>Manuel</td>\n",
       "      <td>Y</td>\n",
       "    </tr>\n",
       "  </tbody>\n",
       "</table>\n",
       "</div>"
      ],
      "text/plain": [
       "   BASE_CUSTOMER_ID       date  VEHICLE_ID  year month traffic_year  \\\n",
       "0                 4 2010-01-31           1  2007     3       2007.0   \n",
       "1                 4 2010-02-28           1  2007     3       2007.0   \n",
       "2                 4 2010-03-31           1  2007     3       2007.0   \n",
       "3                 4 2010-04-30           1  2007     3       2007.0   \n",
       "4                 4 2010-05-31           1  2007     3       2007.0   \n",
       "\n",
       "  traffic_month    MOTOR_GAS_TYPE GEAR_BOX_TYPE BRAND_CODE  \n",
       "0           3.0  Kurşunsuz Benzin        Manuel          Y  \n",
       "1           3.0  Kurşunsuz Benzin        Manuel          Y  \n",
       "2           3.0  Kurşunsuz Benzin        Manuel          Y  \n",
       "3           3.0  Kurşunsuz Benzin        Manuel          Y  \n",
       "4           3.0  Kurşunsuz Benzin        Manuel          Y  "
      ]
     },
     "execution_count": 46,
     "metadata": {},
     "output_type": "execute_result"
    }
   ],
   "source": [
    "sifir_arac_summary.head()"
   ]
  },
  {
   "cell_type": "code",
   "execution_count": 47,
   "id": "biblical-manchester",
   "metadata": {},
   "outputs": [],
   "source": [
    "train_df = pd.merge(train_df, sifir_arac_summary, on=['BASE_CUSTOMER_ID', 'date'], how='left')"
   ]
  },
  {
   "cell_type": "code",
   "execution_count": 48,
   "id": "critical-marks",
   "metadata": {},
   "outputs": [
    {
     "data": {
      "text/html": [
       "<div>\n",
       "<style scoped>\n",
       "    .dataframe tbody tr th:only-of-type {\n",
       "        vertical-align: middle;\n",
       "    }\n",
       "\n",
       "    .dataframe tbody tr th {\n",
       "        vertical-align: top;\n",
       "    }\n",
       "\n",
       "    .dataframe thead th {\n",
       "        text-align: right;\n",
       "    }\n",
       "</style>\n",
       "<table border=\"1\" class=\"dataframe\">\n",
       "  <thead>\n",
       "    <tr style=\"text-align: right;\">\n",
       "      <th></th>\n",
       "      <th>BASE_CUSTOMER_ID</th>\n",
       "      <th>date</th>\n",
       "      <th>CUSTOMER_ID_count</th>\n",
       "      <th>SALESFILE_ID_count</th>\n",
       "      <th>create_year</th>\n",
       "      <th>create_month</th>\n",
       "      <th>STATUS</th>\n",
       "      <th>all_REQ_BRAND_CODE</th>\n",
       "      <th>all_REQ_TOPMODEL_CODE</th>\n",
       "      <th>label</th>\n",
       "      <th>...</th>\n",
       "      <th>avg_ownership_period</th>\n",
       "      <th>ownership_months</th>\n",
       "      <th>VEHICLE_ID</th>\n",
       "      <th>year</th>\n",
       "      <th>month</th>\n",
       "      <th>traffic_year</th>\n",
       "      <th>traffic_month</th>\n",
       "      <th>MOTOR_GAS_TYPE</th>\n",
       "      <th>GEAR_BOX_TYPE</th>\n",
       "      <th>BRAND_CODE</th>\n",
       "    </tr>\n",
       "  </thead>\n",
       "  <tbody>\n",
       "    <tr>\n",
       "      <th>0</th>\n",
       "      <td>1</td>\n",
       "      <td>2011-08-31</td>\n",
       "      <td>1</td>\n",
       "      <td>1</td>\n",
       "      <td>2011</td>\n",
       "      <td>8</td>\n",
       "      <td>102.0</td>\n",
       "      <td>Y</td>\n",
       "      <td>9357.0</td>\n",
       "      <td>1</td>\n",
       "      <td>...</td>\n",
       "      <td>4101.0</td>\n",
       "      <td>6</td>\n",
       "      <td>NaN</td>\n",
       "      <td>NaN</td>\n",
       "      <td>NaN</td>\n",
       "      <td>NaN</td>\n",
       "      <td>NaN</td>\n",
       "      <td>NaN</td>\n",
       "      <td>NaN</td>\n",
       "      <td>NaN</td>\n",
       "    </tr>\n",
       "    <tr>\n",
       "      <th>1</th>\n",
       "      <td>1</td>\n",
       "      <td>2011-09-30</td>\n",
       "      <td>1</td>\n",
       "      <td>1</td>\n",
       "      <td>2011</td>\n",
       "      <td>8</td>\n",
       "      <td>102.0</td>\n",
       "      <td>Y</td>\n",
       "      <td>9357.0</td>\n",
       "      <td>0</td>\n",
       "      <td>...</td>\n",
       "      <td>4131.0</td>\n",
       "      <td>6</td>\n",
       "      <td>NaN</td>\n",
       "      <td>NaN</td>\n",
       "      <td>NaN</td>\n",
       "      <td>NaN</td>\n",
       "      <td>NaN</td>\n",
       "      <td>NaN</td>\n",
       "      <td>NaN</td>\n",
       "      <td>NaN</td>\n",
       "    </tr>\n",
       "  </tbody>\n",
       "</table>\n",
       "<p>2 rows × 22 columns</p>\n",
       "</div>"
      ],
      "text/plain": [
       "   BASE_CUSTOMER_ID       date  CUSTOMER_ID_count  SALESFILE_ID_count  \\\n",
       "0                 1 2011-08-31                  1                   1   \n",
       "1                 1 2011-09-30                  1                   1   \n",
       "\n",
       "  create_year create_month STATUS all_REQ_BRAND_CODE all_REQ_TOPMODEL_CODE  \\\n",
       "0        2011            8  102.0                  Y                9357.0   \n",
       "1        2011            8  102.0                  Y                9357.0   \n",
       "\n",
       "   label  ...  avg_ownership_period  ownership_months  VEHICLE_ID year  month  \\\n",
       "0      1  ...                4101.0                 6         NaN  NaN    NaN   \n",
       "1      0  ...                4131.0                 6         NaN  NaN    NaN   \n",
       "\n",
       "  traffic_year traffic_month MOTOR_GAS_TYPE GEAR_BOX_TYPE BRAND_CODE  \n",
       "0          NaN           NaN            NaN           NaN        NaN  \n",
       "1          NaN           NaN            NaN           NaN        NaN  \n",
       "\n",
       "[2 rows x 22 columns]"
      ]
     },
     "execution_count": 48,
     "metadata": {},
     "output_type": "execute_result"
    }
   ],
   "source": [
    "train_df.head(2)"
   ]
  },
  {
   "cell_type": "code",
   "execution_count": 49,
   "id": "sealed-saturn",
   "metadata": {},
   "outputs": [],
   "source": [
    "numerical = ['CUSTOMER_ID_count', 'SALESFILE_ID_count', 'active_cars', 'all_cars', 'avg_ownership_period', 'VEHICLE_ID']\n",
    "vectors = ['STATUS', 'all_REQ_BRAND_CODE', 'all_REQ_TOPMODEL_CODE', 'ownership_months',\n",
    "           'create_year', 'create_month','year', 'month', 'traffic_year', 'traffic_month', 'MOTOR_GAS_TYPE',\n",
    "           'GEAR_BOX_TYPE', 'BRAND_CODE']\n",
    "categorical = []\n",
    "label =['label']\n",
    "drop = ['date', 'BASE_CUSTOMER_ID']"
   ]
  },
  {
   "cell_type": "code",
   "execution_count": 50,
   "id": "patent-ancient",
   "metadata": {},
   "outputs": [
    {
     "ename": "NameError",
     "evalue": "name 'aa' is not defined",
     "output_type": "error",
     "traceback": [
      "\u001b[1;31m---------------------------------------------------------------------------\u001b[0m",
      "\u001b[1;31mNameError\u001b[0m                                 Traceback (most recent call last)",
      "\u001b[1;32m<ipython-input-50-312382290f4f>\u001b[0m in \u001b[0;36m<module>\u001b[1;34m\u001b[0m\n\u001b[1;32m----> 1\u001b[1;33m \u001b[0maa\u001b[0m\u001b[1;33m\u001b[0m\u001b[1;33m\u001b[0m\u001b[0m\n\u001b[0m",
      "\u001b[1;31mNameError\u001b[0m: name 'aa' is not defined"
     ]
    }
   ],
   "source": [
    "aa"
   ]
  },
  {
   "cell_type": "code",
   "execution_count": null,
   "id": "naughty-professional",
   "metadata": {},
   "outputs": [],
   "source": [
    "train_df['active_cars'] = train_df['active_cars'].fillna(0.0)\n",
    "train_df['all_cars'] = train_df['all_cars'].fillna(0.0)\n",
    "train_df['avg_ownership_period'] = train_df['avg_ownership_period'].fillna(0.0)\n",
    "train_df['ownership_months'] = train_df['ownership_months'].fillna('')"
   ]
  },
  {
   "cell_type": "code",
   "execution_count": null,
   "id": "ahead-landscape",
   "metadata": {},
   "outputs": [],
   "source": [
    "num_sample = min(train_df[train_df['label']==1].shape[0], train_df[train_df['label']==0].shape[0])\n",
    "df_pos = train_df[train_df['label']==1].sample(num_sample)\n",
    "df_neg = train_df[train_df['label']==0].sample(num_sample)\n",
    "df_model = pd.concat([df_pos, df_neg])\n",
    "df_model = df_model.sample(frac=1).reset_index(drop=True)"
   ]
  },
  {
   "cell_type": "code",
   "execution_count": null,
   "id": "eligible-roommate",
   "metadata": {},
   "outputs": [],
   "source": [
    "from sklearn.pipeline import Pipeline\n",
    "from sklearn.model_selection import train_test_split\n",
    "from sklearn.feature_extraction.text import CountVectorizer"
   ]
  },
  {
   "cell_type": "code",
   "execution_count": null,
   "id": "administrative-gamma",
   "metadata": {},
   "outputs": [],
   "source": [
    "vectorizer = CountVectorizer(stop_words=None, token_pattern=r'[^\\s+]')\n",
    "vec_REQ_BRAND_CODE = vectorizer.fit_transform(df_model['all_REQ_BRAND_CODE'])\n",
    "col_names = ['req_brand_'+i for i in vectorizer.get_feature_names()[1:]]\n",
    "vec_REQ_BRAND_CODE = pd.DataFrame(vec_REQ_BRAND_CODE.toarray()[:,1:], columns=col_names)"
   ]
  },
  {
   "cell_type": "code",
   "execution_count": null,
   "id": "frozen-score",
   "metadata": {},
   "outputs": [],
   "source": [
    "vectorizer = CountVectorizer(stop_words=None)\n",
    "vec_STATUS = vectorizer.fit_transform(df_model['STATUS'])\n",
    "col_names = ['status_'+i for i in vectorizer.get_feature_names()]\n",
    "vec_STATUS = pd.DataFrame(vec_STATUS.toarray(), columns=col_names)"
   ]
  },
  {
   "cell_type": "code",
   "execution_count": null,
   "id": "accredited-street",
   "metadata": {},
   "outputs": [],
   "source": [
    "vectorizer = CountVectorizer(stop_words=None, token_pattern=r'^(0|[1-9][0-9]*)$')\n",
    "vec_months = vectorizer.fit_transform(df_model['ownership_months'])\n",
    "col_names = ['ownership_month_'+i for i in vectorizer.get_feature_names()]\n",
    "vec_months = pd.DataFrame(vec_months.toarray(), columns=col_names)"
   ]
  },
  {
   "cell_type": "code",
   "execution_count": null,
   "id": "unable-gravity",
   "metadata": {},
   "outputs": [],
   "source": [
    "vectorizer = CountVectorizer(stop_words=None, token_pattern=r'^(0|[1-9][0-9]*)$')\n",
    "vec_create_years = vectorizer.fit_transform(df_model['create_year'])\n",
    "col_names = ['create_year_'+i for i in vectorizer.get_feature_names()]\n",
    "vec_create_years = pd.DataFrame(vec_create_years.toarray(), columns=col_names)"
   ]
  },
  {
   "cell_type": "code",
   "execution_count": null,
   "id": "desirable-gazette",
   "metadata": {},
   "outputs": [],
   "source": [
    "vectorizer = CountVectorizer(stop_words=None, token_pattern=r'^(0|[1-9][0-9]*)$')\n",
    "vec_create_months = vectorizer.fit_transform(df_model['create_month'])\n",
    "col_names = ['create_month_'+i for i in vectorizer.get_feature_names()]\n",
    "vec_create_months = pd.DataFrame(vec_create_months.toarray(), columns=col_names)"
   ]
  },
  {
   "cell_type": "code",
   "execution_count": null,
   "id": "unlikely-priest",
   "metadata": {},
   "outputs": [],
   "source": []
  },
  {
   "cell_type": "code",
   "execution_count": null,
   "id": "furnished-copper",
   "metadata": {},
   "outputs": [],
   "source": [
    "vectors_df = pd.concat([vec_REQ_BRAND_CODE, vec_STATUS, vec_REQ_TOPMODEL_CODE, vec_months], axis=1)"
   ]
  },
  {
   "cell_type": "code",
   "execution_count": null,
   "id": "several-heating",
   "metadata": {},
   "outputs": [],
   "source": [
    "X = pd.concat([df_model[numerical+categorical], vectors_df], axis=1)\n",
    "y = df_model[label]"
   ]
  },
  {
   "cell_type": "code",
   "execution_count": null,
   "id": "experimental-steam",
   "metadata": {},
   "outputs": [],
   "source": [
    "def print_metrics(y_pred, y_test, model):\n",
    "    print(\"Model results: \", type(model).__name__)\n",
    "    print(classification_report(y_test, y_pred))\n",
    "    print(\"Confusion matrix:\")\n",
    "    cm = confusion_matrix(y_test,y_pred, labels= model.classes_)\n",
    "    disp = ConfusionMatrixDisplay(confusion_matrix=cm,display_labels= model.classes_)\n",
    "    disp.plot()"
   ]
  },
  {
   "cell_type": "code",
   "execution_count": null,
   "id": "subjective-glucose",
   "metadata": {},
   "outputs": [],
   "source": [
    "def create_pipeline(clf_name, clf_object):\n",
    "    \n",
    "    numeric_transformer = Pipeline(steps=[\n",
    "        ('scaler', StandardScaler())])\n",
    "    \n",
    "    categorical_transformer = Pipeline(steps=[\n",
    "        ('imputer', SimpleImputer(strategy='most_frequent')),\n",
    "        ('one-hot', OneHotEncoder(handle_unknown='ignore'))])\n",
    "    \n",
    "\n",
    "    preprocessor = ColumnTransformer(\n",
    "                                    transformers=[\n",
    "                                                  ('num1', numeric_transformer, numerical),\n",
    "                                                  ('cat', categorical_transformer, categorical),\n",
    "                                                  ], \n",
    "                                    remainder='passthrough')\n",
    "\n",
    "    pipeline = Pipeline(steps=[('preprocessor', preprocessor),\n",
    "                          ('f_selector', SelectKBest(f_classif, k=30)),\n",
    "                          (clf_name, clf_object)])\n",
    "    \n",
    "    return pipeline"
   ]
  },
  {
   "cell_type": "code",
   "execution_count": null,
   "id": "living-federal",
   "metadata": {},
   "outputs": [],
   "source": [
    "from xgboost import XGBClassifier\n",
    "from sklearn.impute import SimpleImputer\n",
    "from sklearn.compose import ColumnTransformer\n",
    "from sklearn.preprocessing import StandardScaler, OneHotEncoder, PowerTransformer\n",
    "from sklearn.model_selection import cross_val_score\n",
    "from sklearn.feature_selection import f_classif\n",
    "from sklearn.model_selection import StratifiedKFold\n",
    "from sklearn.feature_selection import SelectKBest\n",
    "from sklearn.metrics import classification_report, confusion_matrix, ConfusionMatrixDisplay"
   ]
  },
  {
   "cell_type": "code",
   "execution_count": null,
   "id": "dominant-narrative",
   "metadata": {
    "scrolled": false
   },
   "outputs": [],
   "source": [
    "X_train, X_test, y_train, y_test = train_test_split(X, y, stratify=y, test_size=0.20, random_state=1)\n",
    "\n",
    "\n",
    "pipe1 = create_pipeline('xgb', XGBClassifier(class_weight='balanced', n_jobs=-1, random_state=0))\n",
    "pipe1.fit(X_train, y_train)\n",
    "preds1 = pipe1.predict(X_test)\n",
    "print_metrics(preds1, y_test, pipe1)"
   ]
  },
  {
   "cell_type": "code",
   "execution_count": null,
   "id": "regional-genesis",
   "metadata": {
    "scrolled": true
   },
   "outputs": [],
   "source": [
    "customer"
   ]
  },
  {
   "cell_type": "code",
   "execution_count": null,
   "id": "lightweight-contributor",
   "metadata": {},
   "outputs": [],
   "source": [
    "   \n",
    "\n",
    "        \n",
    "vehicle_table         \n",
    "mask_servis_bakim     \n",
    "sample_submission_raw \n",
    "\n",
    "\n",
    "customer\n",
    "    customer_id bazlı olarak \n",
    " \n",
    "sifir_arac_alanlar   \n",
    "    ay bazlı olarak \n",
    "        geçmişte alınan sıfır araç sayısı\n",
    "        aracın alındığı ay\n",
    "        \n",
    "bakımları hesaplarken aylık periyotları kullan\n",
    "örn 08-15 için önceki tarihteki değerleri bul\n",
    "mask_servis_bakim ve vehicle'ı vehicle_id üzerinden birleştir ve vehicle a eşitle\n",
    "    groupby VEHICLE_ID and IS_MAINTENANCE\n",
    "        avg. days between servis and bakım\n",
    "        her vehicle için toplam tutar\n",
    "        kaç kere bakıma geldi\n",
    "        kaç yıl boyunca bakıma geldi\n",
    "vehicle_table\n",
    "    month of TRAFFIC_DATE\n",
    "    BRAND_CODE\n",
    "    BASEMODEL_CODE\n",
    "    TOPMODEL_CODE\n",
    "    MOTOR_GAS_TYPE\n",
    "    GEAR_BOX_TYPE \n",
    " \n",
    "sales_file ile customer'ı CUSTOMER_ID üzerinden birleştir ve sales_file a eşitle\n",
    "    boş değerleri bir önceki ile güncelle\n",
    "    tarih bazlı gruplayarak geçmişte kaç dosya açıldı, açılan dosyaların statüleri, brand codeları elde edilebilir\n",
    "    \n",
    "done\n",
    "customer_related_table      \n",
    "    number_of_active_vehicles\n",
    "    number_of_passive_vehicles\n",
    "    number_of _all_vehicles\n",
    "    total_ownership_period\n",
    "    ownership months\n",
    "    \n",
    "## featurelar\n",
    "\n",
    "latest dosya statüs\n",
    "top statüs\n",
    "dosya açtırma ortalaması\n",
    "day diff between latest dosya - sin or log\n",
    "statüs - one-hot\n",
    "how many req_brand\n",
    "how many REQ_TOPMODEL_CODE\n",
    "\n",
    "REQ_TOPMODEL_CODE daha önce sahip mi\n",
    "REQ_BRAND_CODE daha önce sahip mi\n",
    "geçmiş araç sayısı\n",
    "geçmiş dosya sayısı\n",
    "geçmiş bakım masrafı ve adedi\n",
    "geçmiş servis masrafı ve adedi\n",
    "geçmiş toplam masrafı ve adedi\n",
    "geçmiş aktif araç sayısı\n",
    "geçmiş pasif araç sayısı \n",
    "\n",
    "salihten alınan verileri kullan"
   ]
  },
  {
   "cell_type": "markdown",
   "id": "postal-failing",
   "metadata": {},
   "source": [
    "## featurelar\n",
    "\n",
    "latest dosya statüs\n",
    "top statüs\n",
    "dosya açtırma ortalaması\n",
    "day diff between latest dosya - sin or log\n",
    "statüs - one-hot\n",
    "how many req_brand\n",
    "how many REQ_TOPMODEL_CODE\n",
    "\n",
    "REQ_TOPMODEL_CODE daha önce sahip mi\n",
    "REQ_BRAND_CODE daha önce sahip mi\n",
    "geçmiş araç sayısı\n",
    "geçmiş dosya sayısı\n",
    "geçmiş bakım masrafı ve adedi\n",
    "geçmiş servis masrafı ve adedi\n",
    "geçmiş toplam masrafı ve adedi\n",
    "geçmiş aktif araç sayısı\n",
    "geçmiş pasif araç sayısı \n",
    "\n",
    "salihten alınan verileri kullan"
   ]
  },
  {
   "cell_type": "markdown",
   "id": "chubby-division",
   "metadata": {},
   "source": [
    "#### submission"
   ]
  },
  {
   "cell_type": "code",
   "execution_count": null,
   "id": "biological-airplane",
   "metadata": {},
   "outputs": [],
   "source": [
    "sample_submission = pd.merge(sample_submission, customer, on=['BASE_CUSTOMER_ID'], how='left')"
   ]
  }
 ],
 "metadata": {
  "kernelspec": {
   "display_name": "Python 3",
   "language": "python",
   "name": "python3"
  },
  "language_info": {
   "codemirror_mode": {
    "name": "ipython",
    "version": 3
   },
   "file_extension": ".py",
   "mimetype": "text/x-python",
   "name": "python",
   "nbconvert_exporter": "python",
   "pygments_lexer": "ipython3",
   "version": "3.8.5"
  }
 },
 "nbformat": 4,
 "nbformat_minor": 5
}
